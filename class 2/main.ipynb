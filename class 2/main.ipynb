{
 "cells": [
  {
   "cell_type": "code",
   "execution_count": 1,
   "id": "9e292544",
   "metadata": {},
   "outputs": [],
   "source": [
    "name = \"Kashan\""
   ]
  },
  {
   "cell_type": "code",
   "execution_count": 22,
   "id": "3fe805a4",
   "metadata": {},
   "outputs": [],
   "source": [
    "# list\n",
    "# students = [\"Rubaish\", \"Fahad\", \"Wasay\", \"Bazeen\"]\n",
    "# For loop\n",
    "# While loop\n",
    "# table = int(input(\"Enter any number: \")) # int\n",
    "# for num in range(1, 11):\n",
    "#     print(num * table)\n"
   ]
  },
  {
   "cell_type": "code",
   "execution_count": 29,
   "id": "f4b041e7",
   "metadata": {},
   "outputs": [],
   "source": [
    "\n",
    "\n",
    "# math.\n",
    "# print(\"Hello World\")\n",
    "\n",
    "# name = \"Kashan\"\n",
    "# Data Types:\n",
    "# String \"\"\n",
    "# Integer 121200138\n",
    "# Boolean True False\n",
    "# List [] [\"Kashan\", 12013 , True ,\"Wasay\"]\n",
    "# Dictionary {\"name\" : \"Kashan\"}\n",
    "# Sets {\"kashan\", \"adnan\"} # dups are not allowed\n",
    "# Tuples\n",
    "# print(name)\n",
    "\n",
    "# names = {\"wasay\",\"wasay\"}\n",
    "# names\n",
    "# dictionary = {\"name\" : \"Kashan\"}\n",
    "# print(dictionary)\n",
    "# tup = (\"hello\", \"hello\")\n",
    "# print(tup)\n",
    "\n",
    "# a = 9\n",
    "# b = 10\n",
    "# c = 29\n",
    "\n",
    "# a, b, c = 9, 10, 29\n",
    "# print(b)\n",
    "\n",
    "# print(x)\n",
    "# print(y)\n",
    "# print(z)\n",
    "# x  = 10 * 12\n",
    "# # x = 19\n",
    "# print(x)\n",
    "\n",
    "# # strring = \"hello\"/\n",
    "# # strring = \"Hello\" + \"2323\"\n",
    "\n",
    "# # students = (\"kashan\", \" wasay\")\n",
    "\n",
    "# # students = (\"hello\")\n",
    "\n",
    "\n",
    "# courses = [\"web development\", \"helo\"]\n",
    "\n",
    "# courses2 = courses.copy()\n",
    "\n",
    "# courses2[0] = \"Helo\"\n",
    "\n",
    "# print(courses)\n",
    "# print(courses2)\n",
    "\n"
   ]
  },
  {
   "cell_type": "code",
   "execution_count": 40,
   "id": "613ca980",
   "metadata": {},
   "outputs": [],
   "source": [
    "# print(f\"This is a paragraph for the laptop. and i am buying this laptop\")"
   ]
  },
  {
   "cell_type": "code",
   "execution_count": null,
   "id": "69e8dd3d",
   "metadata": {},
   "outputs": [
    {
     "name": "stdout",
     "output_type": "stream",
     "text": [
      "Kashan Adnan Adnan Adnan\n"
     ]
    }
   ],
   "source": [
    "names = [\"Kashan\", \"Adnan\", \"Adnan\", \"Adnan\"]\n",
    "\n",
    "print(\" \".join(names))"
   ]
  }
 ],
 "metadata": {
  "kernelspec": {
   "display_name": "base",
   "language": "python",
   "name": "python3"
  },
  "language_info": {
   "codemirror_mode": {
    "name": "ipython",
    "version": 3
   },
   "file_extension": ".py",
   "mimetype": "text/x-python",
   "name": "python",
   "nbconvert_exporter": "python",
   "pygments_lexer": "ipython3",
   "version": "3.13.2"
  }
 },
 "nbformat": 4,
 "nbformat_minor": 5
}
